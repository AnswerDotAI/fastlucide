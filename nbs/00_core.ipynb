{
 "cells": [
  {
   "cell_type": "code",
   "execution_count": null,
   "metadata": {},
   "outputs": [],
   "source": [
    "#| default_exp core"
   ]
  },
  {
   "cell_type": "markdown",
   "metadata": {},
   "source": [
    "# core\n",
    "\n",
    "> Fill in a module description here"
   ]
  },
  {
   "cell_type": "code",
   "execution_count": null,
   "metadata": {},
   "outputs": [],
   "source": [
    "#| export\n",
    "from fastcore.utils import *\n",
    "from fastcore.xml import *\n",
    "from fasthtml.common import *\n",
    "from fasthtml.svg import *\n",
    "from json import loads\n",
    "import pathlib"
   ]
  },
  {
   "cell_type": "code",
   "execution_count": null,
   "metadata": {},
   "outputs": [],
   "source": [
    "__file__='../fastlucide/_icons.py'"
   ]
  },
  {
   "cell_type": "code",
   "execution_count": null,
   "metadata": {},
   "outputs": [],
   "source": [
    "#| export\n",
    "def read_icons():\n",
    "    path = pathlib.Path(__file__).parent\n",
    "    fpath = path/'_icons.py'\n",
    "    return loads(fpath.read_text())"
   ]
  },
  {
   "cell_type": "code",
   "execution_count": null,
   "metadata": {},
   "outputs": [],
   "source": [
    "icons = read_icons()"
   ]
  },
  {
   "cell_type": "code",
   "execution_count": null,
   "metadata": {},
   "outputs": [
    {
     "data": {
      "text/plain": [
       "[['path', {'d': 'M3.5 13h6'}],\n",
       " ['path', {'d': 'm2 16 4.5-9 4.5 9'}],\n",
       " ['path', {'d': 'M18 7v9'}],\n",
       " ['path', {'d': 'm14 12 4 4 4-4'}]]"
      ]
     },
     "execution_count": null,
     "metadata": {},
     "output_type": "execute_result"
    }
   ],
   "source": [
    "nm = 'a-arrow-down'\n",
    "ico = icons[nm]\n",
    "ico"
   ]
  },
  {
   "cell_type": "code",
   "execution_count": null,
   "metadata": {},
   "outputs": [],
   "source": [
    "svg_attrs = dict(fill='none', stroke='currentColor', stroke_width='2', stroke_linecap='round', stroke_linejoin='round')"
   ]
  },
  {
   "cell_type": "code",
   "execution_count": null,
   "metadata": {},
   "outputs": [],
   "source": [
    "#| export\n",
    "def sz_attrs(sz):\n",
    "    \"Attrs necessary to size an SVG\"\n",
    "    return dict(viewBox=f'0 0 24 24', width=f'{sz}px', height=f'{sz}px')"
   ]
  },
  {
   "cell_type": "code",
   "execution_count": null,
   "metadata": {},
   "outputs": [
    {
     "data": {
      "text/html": [
       "<svg xmlns=\"http://www.w3.org/2000/svg\" viewbox=\"0 0 24 24\" height=\"24px\" width=\"24px\" fill=\"none\" stroke=\"currentColor\" stroke-width=\"2\" stroke-linecap=\"round\" stroke-linejoin=\"round\"><path d=\"M3.5 13h6\"></path><path d=\"m2 16 4.5-9 4.5 9\"></path><path d=\"M18 7v9\"></path><path d=\"m14 12 4 4 4-4\"></path></svg>"
      ],
      "text/plain": [
       "<IPython.core.display.HTML object>"
      ]
     },
     "metadata": {},
     "output_type": "display_data"
    },
    {
     "data": {
      "text/html": [
       "<svg xmlns=\"http://www.w3.org/2000/svg\" viewbox=\"0 0 24 24\" height=\"16px\" width=\"16px\" fill=\"none\" stroke=\"currentColor\" stroke-width=\"2\" stroke-linecap=\"round\" stroke-linejoin=\"round\"><path d=\"M3.5 13h6\"></path><path d=\"m2 16 4.5-9 4.5 9\"></path><path d=\"M18 7v9\"></path><path d=\"m14 12 4 4 4-4\"></path></svg>"
      ],
      "text/plain": [
       "<IPython.core.display.HTML object>"
      ]
     },
     "metadata": {},
     "output_type": "display_data"
    }
   ],
   "source": [
    "sym = [ft(t, **attrs) for t,attrs in ico]\n",
    "show(Svg(*sym, **sz_attrs(24), **svg_attrs))\n",
    "show(Svg(*sym, **sz_attrs(16), **svg_attrs))"
   ]
  },
  {
   "cell_type": "code",
   "execution_count": null,
   "metadata": {},
   "outputs": [],
   "source": [
    "#| export\n",
    "def symbol(\n",
    "    icons, # icon dict\n",
    "    nm, # Name of icon in lucide\n",
    "    pre='' # Prefix to add to element id\n",
    "):\n",
    "    \"Create a `symbol` element for an icon\"\n",
    "    ico = icons[nm]\n",
    "    sym = [ft(t, **attrs) for t,attrs in ico]\n",
    "    return Symbol(*sym, id=pre+nm)"
   ]
  },
  {
   "cell_type": "code",
   "execution_count": null,
   "metadata": {},
   "outputs": [
    {
     "data": {
      "text/markdown": [
       "```html\n",
       "<symbol id=\"l-a-arrow-down\"><path d=\"M3.5 13h6\"></path><path d=\"m2 16 4.5-9 4.5 9\"></path><path d=\"M18 7v9\"></path><path d=\"m14 12 4 4 4-4\"></path></symbol>\n",
       "```"
      ],
      "text/plain": [
       "symbol((path((),{'d': 'M3.5 13h6'}), path((),{'d': 'm2 16 4.5-9 4.5 9'}), path((),{'d': 'M18 7v9'}), path((),{'d': 'm14 12 4 4 4-4'})),{'id': 'l-a-arrow-down'})"
      ]
     },
     "execution_count": null,
     "metadata": {},
     "output_type": "execute_result"
    }
   ],
   "source": [
    "symbol(icons, nm, 'l-')"
   ]
  },
  {
   "cell_type": "code",
   "execution_count": null,
   "metadata": {},
   "outputs": [],
   "source": [
    "#| export\n",
    "def sprites(\n",
    "    icons, # icon dict\n",
    "    nms, # List of lucide icon names\n",
    "    pre='' # Prefix to add to all element ids\n",
    "):\n",
    "    \"SVG element containing all symbols in `nms`\"\n",
    "    syms = [symbol(icons, nm, pre) for nm in nms]\n",
    "    return Svg(Defs(*syms), style=\"display: none\")"
   ]
  },
  {
   "cell_type": "code",
   "execution_count": null,
   "metadata": {},
   "outputs": [
    {
     "data": {
      "text/html": [
       "<svg xmlns=\"http://www.w3.org/2000/svg\" style=\"display: none\"><defs><symbol id=\"l-a-arrow-down\"><path d=\"M3.5 13h6\"></path><path d=\"m2 16 4.5-9 4.5 9\"></path><path d=\"M18 7v9\"></path><path d=\"m14 12 4 4 4-4\"></path></symbol><symbol id=\"l-accessibility\"><circle cx=\"16\" cy=\"4\" r=\"1\"></circle><path d=\"m18 19 1-7-6 1\"></path><path d=\"m5 8 3-3 5.5 3-2.36 3.5\"></path><path d=\"M4.24 14.5a5 5 0 0 0 6.88 6\"></path><path d=\"M13.76 17.5a5 5 0 0 0-6.88-6\"></path></symbol></defs></svg>"
      ],
      "text/plain": [
       "<IPython.core.display.HTML object>"
      ]
     },
     "metadata": {},
     "output_type": "display_data"
    }
   ],
   "source": [
    "sps = sprites(icons, [nm, 'accessibility'], 'l-')\n",
    "show(sps)"
   ]
  },
  {
   "cell_type": "code",
   "execution_count": null,
   "metadata": {},
   "outputs": [],
   "source": [
    "#| export\n",
    "def icon(\n",
    "    nm, # Name of icon in lucide\n",
    "    pre='', # Prefix to add to element id\n",
    "    cls=\"lucide-icon\", # class to use for svg\n",
    "    sz=24, # size of svg\n",
    "    **attrs # additional attrs for svg\n",
    "):\n",
    "    \"A `use` element in an `svg` element refering to `nm`\"\n",
    "    return Svg(Use(href=f\"#{pre}{nm}\"), cls=cls, icon=nm, **sz_attrs(sz), **attrs)"
   ]
  },
  {
   "cell_type": "code",
   "execution_count": null,
   "metadata": {},
   "outputs": [
    {
     "data": {
      "text/markdown": [
       "```html\n",
       "<svg xmlns=\"http://www.w3.org/2000/svg\" viewbox=\"0 0 24 24\" height=\"16px\" width=\"16px\" icon=\"accessibility\" fill=\"none\" stroke=\"currentColor\" stroke-width=\"2\" stroke-linecap=\"round\" stroke-linejoin=\"round\" class=\"lucide-icon\"><use href=\"#l-accessibility\"></use></svg>\n",
       "```"
      ],
      "text/plain": [
       "svg((use((),{'href': '#l-accessibility'}),),{'xmlns': 'http://www.w3.org/2000/svg', 'viewbox': '0 0 24 24', 'height': '16px', 'width': '16px', 'icon': 'accessibility', 'fill': 'none', 'stroke': 'currentColor', 'stroke-width': '2', 'stroke-linecap': 'round', 'stroke-linejoin': 'round', 'class': 'lucide-icon'})"
      ]
     },
     "execution_count": null,
     "metadata": {},
     "output_type": "execute_result"
    }
   ],
   "source": [
    "used = icon('accessibility', 'l-', sz=16, **svg_attrs)\n",
    "used"
   ]
  },
  {
   "cell_type": "code",
   "execution_count": null,
   "metadata": {},
   "outputs": [
    {
     "data": {
      "text/html": [
       "<svg xmlns=\"http://www.w3.org/2000/svg\" viewbox=\"0 0 24 24\" height=\"16px\" width=\"16px\" icon=\"accessibility\" fill=\"none\" stroke=\"currentColor\" stroke-width=\"2\" stroke-linecap=\"round\" stroke-linejoin=\"round\" class=\"lucide-icon\"><use href=\"#l-accessibility\"></use></svg>"
      ],
      "text/plain": [
       "<IPython.core.display.HTML object>"
      ]
     },
     "metadata": {},
     "output_type": "display_data"
    }
   ],
   "source": [
    "show(used)"
   ]
  },
  {
   "cell_type": "code",
   "execution_count": null,
   "metadata": {},
   "outputs": [],
   "source": [
    "#| export\n",
    "def SvgStyle(cls=\"lucide-icon\"):\n",
    "    \"Styles required for lucide icons to display correctly\"\n",
    "    return Style(f'.{cls} {{ stroke: currentColor; fill: none; stroke-width: 2; stroke-linecap: round; stroke-linejoin: round; }}')"
   ]
  },
  {
   "cell_type": "code",
   "execution_count": null,
   "metadata": {},
   "outputs": [],
   "source": [
    "#| export\n",
    "class SvgSprites:\n",
    "    \"Create an track used icons\"\n",
    "    def __init__(self, pre='', sz=24, cls=\"lucide-icon\", nms=(), **attrs):\n",
    "        nms = set(nms)\n",
    "        self.attrs = attrs\n",
    "        self.icons = read_icons()\n",
    "        store_attr()\n",
    "\n",
    "    def __call__(self, nm, sz=None, cls=\"\", **kw):\n",
    "        self.nms.add(nm)\n",
    "        if not sz: sz=self.sz\n",
    "        attrs = self.attrs | kw\n",
    "        return icon(nm, self.pre, sz=sz, cls = f\"{self.cls} {cls}\", **attrs)\n",
    "\n",
    "    def __ft__(self):\n",
    "        return SvgStyle(cls=self.cls),sprites(self.icons, self.nms, self.pre)"
   ]
  },
  {
   "cell_type": "code",
   "execution_count": null,
   "metadata": {},
   "outputs": [
    {
     "data": {
      "text/markdown": [
       "```html\n",
       "<svg xmlns=\"http://www.w3.org/2000/svg\" viewbox=\"0 0 24 24\" height=\"18px\" width=\"18px\" icon=\"a-arrow-down\" class=\"lucide-icon \"><use href=\"#lc-a-arrow-down\"></use></svg>\n",
       "```"
      ],
      "text/plain": [
       "svg((use((),{'href': '#lc-a-arrow-down'}),),{'xmlns': 'http://www.w3.org/2000/svg', 'viewbox': '0 0 24 24', 'height': '18px', 'width': '18px', 'icon': 'a-arrow-down', 'class': 'lucide-icon '})"
      ]
     },
     "execution_count": null,
     "metadata": {},
     "output_type": "execute_result"
    }
   ],
   "source": [
    "ss = SvgSprites('lc-', sz=18)\n",
    "ss(nm)"
   ]
  },
  {
   "cell_type": "code",
   "execution_count": null,
   "metadata": {},
   "outputs": [
    {
     "data": {
      "text/html": [
       "<svg xmlns=\"http://www.w3.org/2000/svg\" viewbox=\"0 0 24 24\" height=\"18px\" width=\"18px\" icon=\"a-arrow-down\" class=\"lucide-icon \"><use href=\"#lc-a-arrow-down\"></use></svg>"
      ],
      "text/plain": [
       "<IPython.core.display.HTML object>"
      ]
     },
     "metadata": {},
     "output_type": "display_data"
    },
    {
     "data": {
      "text/html": [
       "<svg xmlns=\"http://www.w3.org/2000/svg\" viewbox=\"0 0 24 24\" height=\"18px\" width=\"18px\" icon=\"accessibility\" class=\"lucide-icon \"><use href=\"#lc-accessibility\"></use></svg>"
      ],
      "text/plain": [
       "<IPython.core.display.HTML object>"
      ]
     },
     "metadata": {},
     "output_type": "display_data"
    },
    {
     "data": {
      "text/html": [
       "<style>.lucide-icon { stroke: currentColor; fill: none; stroke-width: 2; stroke-linecap: round; stroke-linejoin: round; }</style>\n",
       "<svg xmlns=\"http://www.w3.org/2000/svg\" style=\"display: none\"><defs><symbol id=\"lc-accessibility\"><circle cx=\"16\" cy=\"4\" r=\"1\"></circle><path d=\"m18 19 1-7-6 1\"></path><path d=\"m5 8 3-3 5.5 3-2.36 3.5\"></path><path d=\"M4.24 14.5a5 5 0 0 0 6.88 6\"></path><path d=\"M13.76 17.5a5 5 0 0 0-6.88-6\"></path></symbol><symbol id=\"lc-a-arrow-down\"><path d=\"M3.5 13h6\"></path><path d=\"m2 16 4.5-9 4.5 9\"></path><path d=\"M18 7v9\"></path><path d=\"m14 12 4 4 4-4\"></path></symbol></defs></svg>"
      ],
      "text/plain": [
       "<IPython.core.display.HTML object>"
      ]
     },
     "metadata": {},
     "output_type": "display_data"
    }
   ],
   "source": [
    "show(ss('a-arrow-down'))\n",
    "show(ss('accessibility'))\n",
    "show(ss)"
   ]
  },
  {
   "cell_type": "code",
   "execution_count": null,
   "metadata": {},
   "outputs": [
    {
     "data": {
      "text/html": [
       "<style>.hover-bg:hover { background-color: aliceblue; }</style>\n"
      ],
      "text/plain": [
       "<IPython.core.display.HTML object>"
      ]
     },
     "metadata": {},
     "output_type": "display_data"
    },
    {
     "data": {
      "text/html": [
       "<svg xmlns=\"http://www.w3.org/2000/svg\" viewbox=\"0 0 24 24\" height=\"30px\" width=\"30px\" icon=\"accessibility\" class=\"lucide-icon hover-bg\"><use href=\"#lc-accessibility\"></use></svg>"
      ],
      "text/plain": [
       "<IPython.core.display.HTML object>"
      ]
     },
     "metadata": {},
     "output_type": "display_data"
    }
   ],
   "source": [
    "show(Style('.hover-bg:hover { background-color: aliceblue; }'))\n",
    "show(ss('accessibility', sz=30, cls='hover-bg'))"
   ]
  },
  {
   "cell_type": "code",
   "execution_count": null,
   "metadata": {},
   "outputs": [
    {
     "data": {
      "text/html": [
       "<div style=\"background-color: aliceblue; color:blue\">\n",
       "<svg xmlns=\"http://www.w3.org/2000/svg\" viewbox=\"0 0 24 24\" height=\"18px\" width=\"18px\" icon=\"accessibility\" class=\"lucide-icon \"><use href=\"#lc-accessibility\"></use></svg></div>\n"
      ],
      "text/plain": [
       "<IPython.core.display.HTML object>"
      ]
     },
     "metadata": {},
     "output_type": "display_data"
    }
   ],
   "source": [
    "show(Div(ss('accessibility'), style='background-color: aliceblue; color:blue'))"
   ]
  },
  {
   "cell_type": "markdown",
   "metadata": {},
   "source": [
    "## export -"
   ]
  },
  {
   "cell_type": "code",
   "execution_count": null,
   "metadata": {},
   "outputs": [],
   "source": [
    "#| hide\n",
    "import nbdev; nbdev.nbdev_export()"
   ]
  },
  {
   "cell_type": "code",
   "execution_count": null,
   "metadata": {},
   "outputs": [],
   "source": []
  }
 ],
 "metadata": {
  "kernelspec": {
   "display_name": "python3",
   "language": "python",
   "name": "python3"
  }
 },
 "nbformat": 4,
 "nbformat_minor": 4
}
