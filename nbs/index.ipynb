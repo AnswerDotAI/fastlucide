{
 "cells": [
  {
   "cell_type": "markdown",
   "metadata": {},
   "source": [
    "# fastlucide\n",
    "\n",
    "> Lucide icons for FastHTML"
   ]
  },
  {
   "cell_type": "markdown",
   "metadata": {},
   "source": [
    "A convenient FastHTML wrapper for the excellent [Lucide](https://lucide.dev/) icon library."
   ]
  },
  {
   "cell_type": "markdown",
   "metadata": {},
   "source": [
    "## Installation"
   ]
  },
  {
   "cell_type": "markdown",
   "metadata": {},
   "source": [
    "Install from [pypi](https://pypi.org/project/fastlucide/)\n",
    "\n",
    "\n",
    "```sh\n",
    "$ pip install fastlucide\n",
    "```"
   ]
  },
  {
   "cell_type": "markdown",
   "metadata": {},
   "source": [
    "## How to use"
   ]
  },
  {
   "cell_type": "code",
   "execution_count": null,
   "metadata": {},
   "outputs": [],
   "source": [
    "from fastlucide import *"
   ]
  },
  {
   "cell_type": "markdown",
   "metadata": {},
   "source": [
    "### SvgSprites"
   ]
  },
  {
   "cell_type": "markdown",
   "metadata": {},
   "source": [
    "The most convenient way to use fastlucide is to create an `SvgSprites` class, passing in a short prefix to ensure IDs are unique:"
   ]
  },
  {
   "cell_type": "code",
   "execution_count": null,
   "metadata": {},
   "outputs": [],
   "source": [
    "ss = SvgSprites('l-')"
   ]
  },
  {
   "cell_type": "markdown",
   "metadata": {},
   "source": [
    "Then add icons whereever you want to show them, by calling the `ss` object with the desired name. Any additional attrs are added to the SVG.\n",
    "\n",
    "(NB: we use `show` here to cause the SVGs to render in the notebook/docs. This isn't needed in a regular FastHTML app.)"
   ]
  },
  {
   "cell_type": "code",
   "execution_count": null,
   "metadata": {},
   "outputs": [],
   "source": [
    "from fasthtml.common import show,Div"
   ]
  },
  {
   "cell_type": "code",
   "execution_count": null,
   "metadata": {},
   "outputs": [
    {
     "data": {
      "text/html": [
       "<svg xmlns=\"http://www.w3.org/2000/svg\" viewbox=\"0 0 24 24\" height=\"24px\" width=\"24px\" icon=\"a-arrow-down\" class=\"lucide-icon \"><use href=\"#l-a-arrow-down\"></use></svg>"
      ],
      "text/plain": [
       "<IPython.core.display.HTML object>"
      ]
     },
     "metadata": {},
     "output_type": "display_data"
    },
    {
     "data": {
      "text/html": [
       "<svg xmlns=\"http://www.w3.org/2000/svg\" viewbox=\"0 0 24 24\" height=\"24px\" width=\"24px\" icon=\"accessibility\" class=\"lucide-icon \"><use href=\"#l-accessibility\"></use></svg>"
      ],
      "text/plain": [
       "<IPython.core.display.HTML object>"
      ]
     },
     "metadata": {},
     "output_type": "display_data"
    }
   ],
   "source": [
    "show(ss('a-arrow-down'))\n",
    "show(ss('accessibility'))"
   ]
  },
  {
   "cell_type": "markdown",
   "metadata": {},
   "source": [
    "Finally, be sure to render `ss` itself, to add the sprite sheet to the DOM."
   ]
  },
  {
   "cell_type": "code",
   "execution_count": null,
   "metadata": {},
   "outputs": [
    {
     "data": {
      "text/html": [
       "<style>.lucide-icon { stroke: currentColor; fill: none; stroke-width: 2; stroke-linecap: round; stroke-linejoin: round; }</style>\n",
       "<svg xmlns=\"http://www.w3.org/2000/svg\" style=\"display: none\"><defs><symbol id=\"l-a-arrow-down\"><path d=\"M3.5 13h6\"></path><path d=\"m2 16 4.5-9 4.5 9\"></path><path d=\"M18 7v9\"></path><path d=\"m14 12 4 4 4-4\"></path></symbol><symbol id=\"l-accessibility\"><circle cx=\"16\" cy=\"4\" r=\"1\"></circle><path d=\"m18 19 1-7-6 1\"></path><path d=\"m5 8 3-3 5.5 3-2.36 3.5\"></path><path d=\"M4.24 14.5a5 5 0 0 0 6.88 6\"></path><path d=\"M13.76 17.5a5 5 0 0 0-6.88-6\"></path></symbol></defs></svg>"
      ],
      "text/plain": [
       "<IPython.core.display.HTML object>"
      ]
     },
     "metadata": {},
     "output_type": "display_data"
    }
   ],
   "source": [
    "show(ss)"
   ]
  },
  {
   "cell_type": "markdown",
   "metadata": {},
   "source": [
    "### fastlucide.icons"
   ]
  },
  {
   "cell_type": "markdown",
   "metadata": {},
   "source": [
    "If you dynamically add a new icon to the DOM after loading the page (e.g using an HTMX swap), then the `SvgSprites` element will not contain that icon, so it won't display. One solution to this is to preinitialize using e.g `SvgSprites(nms=['air-vent', 'apple'])`.\n",
    "\n",
    "Alternatively, you can import any icon name (sentence-cased, with underscores instead of hyphens) from `fastlucide.icons`, which will create an icon-generating function and also adds the name to `spritesheet`, which is an `SvgSprite` singleton."
   ]
  },
  {
   "cell_type": "code",
   "execution_count": null,
   "metadata": {},
   "outputs": [],
   "source": [
    "from fastlucide.icons import spritesheet, Air_vent, Apple"
   ]
  },
  {
   "cell_type": "markdown",
   "metadata": {},
   "source": [
    "You can now call `Air_vent` and `Apple` as functions -- be sure to also include `spritesheet` in the DOM. If you use the same icon multiple times, you can optionally store it in a variable."
   ]
  },
  {
   "cell_type": "code",
   "execution_count": null,
   "metadata": {},
   "outputs": [
    {
     "data": {
      "text/html": [
       "<svg xmlns=\"http://www.w3.org/2000/svg\" viewbox=\"0 0 24 24\" height=\"24px\" width=\"24px\" icon=\"air-vent\" class=\"lucide-icon \"><use href=\"#air-vent\"></use></svg><svg xmlns=\"http://www.w3.org/2000/svg\" viewbox=\"0 0 24 24\" height=\"48px\" width=\"48px\" icon=\"apple\" class=\"lucide-icon \"><use href=\"#apple\"></use></svg><svg xmlns=\"http://www.w3.org/2000/svg\" viewbox=\"0 0 24 24\" height=\"24px\" width=\"24px\" icon=\"air-vent\" class=\"lucide-icon \"><use href=\"#air-vent\"></use></svg><style>.lucide-icon { stroke: currentColor; fill: none; stroke-width: 2; stroke-linecap: round; stroke-linejoin: round; }</style>\n",
       "<svg xmlns=\"http://www.w3.org/2000/svg\" style=\"display: none\"><defs><symbol id=\"apple\"><path d=\"M12 20.94c1.5 0 2.75 1.06 4 1.06 3 0 6-8 6-12.22A4.91 4.91 0 0 0 17 5c-2.22 0-4 1.44-5 2-1-.56-2.78-2-5-2a4.9 4.9 0 0 0-5 4.78C2 14 5 22 8 22c1.25 0 2.5-1.06 4-1.06Z\"></path><path d=\"M10 2c1 .5 2 2 2 5\"></path></symbol><symbol id=\"air-vent\"><path d=\"M18 17.5a2.5 2.5 0 1 1-4 2.03V12\"></path><path d=\"M6 12H4a2 2 0 0 1-2-2V5a2 2 0 0 1 2-2h16a2 2 0 0 1 2 2v5a2 2 0 0 1-2 2h-2\"></path><path d=\"M6 8h12\"></path><path d=\"M6.6 15.572A2 2 0 1 0 10 17v-5\"></path></symbol></defs></svg>"
      ],
      "text/plain": [
       "<IPython.core.display.HTML object>"
      ]
     },
     "metadata": {},
     "output_type": "display_data"
    }
   ],
   "source": [
    "vent = Air_vent()\n",
    "show(vent, Apple(sz=48), vent,\n",
    "     spritesheet)"
   ]
  },
  {
   "cell_type": "markdown",
   "metadata": {},
   "source": [
    "Because `fastlucide.icons` supports the `__dir__` protocol, you can use tab-completion in jupyter and similar environments to view a list of matching icons. Or call `dir()` programmatically."
   ]
  },
  {
   "cell_type": "code",
   "execution_count": null,
   "metadata": {},
   "outputs": [],
   "source": [
    "from fastlucide import icons"
   ]
  },
  {
   "cell_type": "code",
   "execution_count": null,
   "metadata": {},
   "outputs": [
    {
     "data": {
      "text/plain": [
       "['Star', 'Star_half', 'Star_off']"
      ]
     },
     "execution_count": null,
     "metadata": {},
     "output_type": "execute_result"
    }
   ],
   "source": [
    "[o for o in dir(icons) if o.startswith('Star')]"
   ]
  },
  {
   "cell_type": "markdown",
   "metadata": {},
   "source": [
    "## How it works"
   ]
  },
  {
   "cell_type": "markdown",
   "metadata": {},
   "source": [
    "When we render an icon, the actual SVG path information is not included -- only an href to an id is there:"
   ]
  },
  {
   "cell_type": "code",
   "execution_count": null,
   "metadata": {},
   "outputs": [
    {
     "data": {
      "text/markdown": [
       "```html\n",
       "<svg xmlns=\"http://www.w3.org/2000/svg\" viewbox=\"0 0 24 24\" height=\"24px\" width=\"24px\" icon=\"a-arrow-down\" class=\"lucide-icon \"><use href=\"#l-a-arrow-down\"></use></svg>\n",
       "```"
      ],
      "text/plain": [
       "svg((use((),{'href': '#l-a-arrow-down'}),),{'xmlns': 'http://www.w3.org/2000/svg', 'viewbox': '0 0 24 24', 'height': '24px', 'width': '24px', 'icon': 'a-arrow-down', 'class': 'lucide-icon '})"
      ]
     },
     "execution_count": null,
     "metadata": {},
     "output_type": "execute_result"
    }
   ],
   "source": [
    "ss('a-arrow-down')"
   ]
  },
  {
   "cell_type": "markdown",
   "metadata": {},
   "source": [
    "The definitions of these ids is provided in the `ss` object itself, along with style information:"
   ]
  },
  {
   "cell_type": "code",
   "execution_count": null,
   "metadata": {},
   "outputs": [],
   "source": [
    "from fastcore.xml import highlight\n",
    "from IPython.display import Markdown"
   ]
  },
  {
   "cell_type": "code",
   "execution_count": null,
   "metadata": {},
   "outputs": [
    {
     "data": {
      "text/markdown": [
       "```html\n",
       "<style>.lucide-icon { stroke: currentColor; fill: none; stroke-width: 2; stroke-linecap: round; stroke-linejoin: round; }</style>\n",
       "<svg xmlns=\"http://www.w3.org/2000/svg\" style=\"display: none\"><defs><symbol id=\"l-a-arrow-down\"><path d=\"M3.5 13h6\"></path><path d=\"m2 16 4.5-9 4.5 9\"></path><path d=\"M18 7v9\"></path><path d=\"m14 12 4 4 4-4\"></path></symbol><symbol id=\"l-accessibility\"><circle cx=\"16\" cy=\"4\" r=\"1\"></circle><path d=\"m18 19 1-7-6 1\"></path><path d=\"m5 8 3-3 5.5 3-2.36 3.5\"></path><path d=\"M4.24 14.5a5 5 0 0 0 6.88 6\"></path><path d=\"M13.76 17.5a5 5 0 0 0-6.88-6\"></path></symbol></defs></svg>\n",
       "```"
      ],
      "text/plain": [
       "<IPython.core.display.Markdown object>"
      ]
     },
     "execution_count": null,
     "metadata": {},
     "output_type": "execute_result"
    }
   ],
   "source": [
    "Markdown(highlight(ss))"
   ]
  },
  {
   "cell_type": "code",
   "execution_count": null,
   "metadata": {},
   "outputs": [],
   "source": []
  }
 ],
 "metadata": {
  "kernelspec": {
   "display_name": "python3",
   "language": "python",
   "name": "python3"
  }
 },
 "nbformat": 4,
 "nbformat_minor": 4
}
